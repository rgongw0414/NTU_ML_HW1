{
 "cells": [
  {
   "cell_type": "code",
   "execution_count": 2,
   "metadata": {
    "colab": {
     "base_uri": "https://localhost:8080/"
    },
    "id": "BusL233dL_EJ",
    "outputId": "f176d1a6-4210-47c2-cb99-36148b7e4b04"
   },
   "outputs": [],
   "source": [
    "import numpy as np\n",
    "import math\n",
    "import csv\n",
    "import time\n",
    "#from google.colab import drive\n",
    "np.set_printoptions(suppress=True) # 顯示小數點\n",
    "#drive.mount('/content/drive')"
   ]
  },
  {
   "cell_type": "code",
   "execution_count": 6,
   "metadata": {
    "colab": {
     "base_uri": "https://localhost:8080/"
    },
    "id": "sHStSGmLaOFf",
    "outputId": "1368cf90-1b77-4450-cb2b-17524b1814c5"
   },
   "outputs": [
    {
     "name": "stdout",
     "output_type": "stream",
     "text": [
      "/content/drive/My Drive/CSIE/Machine Learning\n"
     ]
    }
   ],
   "source": [
    "#cd drive/My Drive/CSIE/Machine Learning"
   ]
  },
  {
   "cell_type": "code",
   "execution_count": 7,
   "metadata": {
    "colab": {
     "base_uri": "https://localhost:8080/",
     "height": 35
    },
    "id": "JTR4un0NZQx2",
    "outputId": "a8edd52b-dd81-4e06-d390-dcb9d80c4964"
   },
   "outputs": [
    {
     "data": {
      "application/vnd.google.colaboratory.intrinsic+json": {
       "type": "string"
      },
      "text/plain": [
       "'/content/drive/My Drive/CSIE/Machine Learning'"
      ]
     },
     "execution_count": 7,
     "metadata": {
      "tags": []
     },
     "output_type": "execute_result"
    }
   ],
   "source": [
    "#pwd"
   ]
  },
  {
   "cell_type": "code",
   "execution_count": 7,
   "metadata": {
    "id": "5ND-uR_BMPiH"
   },
   "outputs": [],
   "source": [
    "raw_data = np.genfromtxt('train.csv', delimiter=',', encoding='big5') ## load train.csv\n",
    "data = raw_data[1:, 3:]  # data[10]為PM2.5\n",
    "\n",
    "where_are_NaNs = np.isnan(data)\n",
    "data[where_are_NaNs] = 0.0   # 將nan轉為數值0.0\n",
    "  \n",
    "x = np.zeros((1, 24*20*12))  \n",
    "for row in range(18):  # 把所有日子的氣象資料整理為形狀(18, -1)的矩陣    \n",
    "    data_term = np.array(data[row, :].reshape(1, 24))\n",
    "    while(row+18 < len(data)):        \n",
    "        row += 18    \n",
    "        data_term = np.append(data_term, data[row,  : ].reshape(1, 24), axis = 1) \n",
    "    x = np.append(x, data_term, axis = 0)\n",
    "x = np.delete(x, 0, 0)"
   ]
  },
  {
   "cell_type": "code",
   "execution_count": 31,
   "metadata": {
    "colab": {
     "base_uri": "https://localhost:8080/"
    },
    "id": "1Fi1AiK0p86u",
    "outputId": "0206ae80-94e0-4c6e-d980-19621e2000af"
   },
   "outputs": [
    {
     "name": "stdout",
     "output_type": "stream",
     "text": [
      "[1 2 3]\n"
     ]
    }
   ],
   "source": [
    "a = np.array([1, 2, 3])\n",
    "np.append(a, 4)\n",
    "print(a)"
   ]
  },
  {
   "cell_type": "code",
   "execution_count": 9,
   "metadata": {
    "id": "j3EvwQDJzELL"
   },
   "outputs": [],
   "source": [
    "train_x = [ ]\n",
    "train_y = [ ]\n",
    "\n",
    "for month in range(12): \n",
    "    for day in range(20):    \n",
    "        for hr in range(24):   \n",
    "            if(day != 19) or (hr < 15): # 撇除無法用來預測的data\n",
    "            # 將每九個小時的十八種類別資料，存為一筆一維陣列，每個月有480筆資料(每個月20天，每天24筆)\n",
    "                train_x.append(x[ : , (month * 480 + day * 24 + hr) : (month * 480 + day * 24 + hr + 9)])\n",
    "\n",
    "            if(day != 0) or (hr > 8):  # 撇除無法作為被預測的data（第十小時）\n",
    "                train_y.append(x[9, (month * 480 + day * 24 + hr)])  # 可用前九小時的data來預測的PM2.5"
   ]
  },
  {
   "cell_type": "code",
   "execution_count": 10,
   "metadata": {
    "colab": {
     "base_uri": "https://localhost:8080/"
    },
    "id": "qHHCCAAds3TJ",
    "outputId": "d6bf0ad3-d409-4e67-e7af-ce27fe5d9954"
   },
   "outputs": [
    {
     "name": "stdout",
     "output_type": "stream",
     "text": [
      "shape of train_x : (5652, 18, 9)\n",
      "shape of train_y(10-th hour PM2.5) : (5652,)\n",
      "model : y = b + X*w\n",
      "Loss function : Loss = summation(y' - y)^2\n"
     ]
    }
   ],
   "source": [
    "print('shape of train_x :', np.array(train_x).shape)\n",
    "print('shape of train_y(10-th hour PM2.5) :', np.array(train_y).shape)\n",
    "print('model : y = b + X*w')\n",
    "print('Loss function : Loss = summation(y\\' - y)^2' )"
   ]
  },
  {
   "cell_type": "code",
   "execution_count": 11,
   "metadata": {
    "colab": {
     "base_uri": "https://localhost:8080/"
    },
    "id": "5mR6b5Mt7NuK",
    "outputId": "438bc273-bce4-4631-bc03-c7f88fb823d4"
   },
   "outputs": [
    {
     "name": "stdout",
     "output_type": "stream",
     "text": [
      "-\n",
      "Iteration[500]:\n",
      "b = 21.189479457, b_grad = -2103.994466918, mean of w = 0.097032, mean of w_grad = -4.362472\n",
      "Loss: 42.989591399814955\n",
      "Elapsed time: 0.01 min.\n",
      "-\n",
      "Iteration[1000]:\n",
      "b = 21.371432636, b_grad = -29.576668441, mean of w = 0.096980, mean of w_grad = -1.485474\n",
      "Loss: 43.141342004626274\n",
      "Elapsed time: 0.03 min.\n",
      "-\n",
      "Iteration[1500]:\n",
      "b = 21.373990423, b_grad = -0.415786016, mean of w = 0.096742, mean of w_grad = -0.716006\n",
      "Loss: 43.13394758489729\n",
      "Elapsed time: 0.05 min.\n",
      "-\n",
      "Iteration[2000]:\n",
      "b = 21.374026380, b_grad = -0.005845081, mean of w = 0.096514, mean of w_grad = -0.410120\n",
      "Loss: 43.12937356691667\n",
      "Elapsed time: 0.07 min.\n",
      "-\n",
      "Iteration[2500]:\n",
      "b = 21.374026886, b_grad = -0.000082170, mean of w = 0.096321, mean of w_grad = -0.260107\n",
      "Loss: 43.12701479043524\n",
      "Elapsed time: 0.10 min.\n",
      "-\n",
      "Iteration[3000]:\n",
      "b = 21.374026893, b_grad = -0.000001155, mean of w = 0.096153, mean of w_grad = -0.175666\n",
      "Loss: 43.12575264576659\n",
      "Elapsed time: 0.13 min.\n",
      "-\n",
      "Iteration[3500]:\n",
      "b = 21.374026893, b_grad = -0.000000016, mean of w = 0.096000, mean of w_grad = -0.123496\n",
      "Loss: 43.12505882709079\n",
      "Elapsed time: 0.17 min.\n",
      "-\n",
      "Iteration[4000]:\n",
      "b = 21.374026893, b_grad = -0.000000002, mean of w = 0.095857, mean of w_grad = -0.089177\n",
      "Loss: 43.12466867541792\n",
      "Elapsed time: 0.21 min.\n",
      "-\n",
      "Iteration[4500]:\n",
      "b = 21.374026893, b_grad = -0.000000002, mean of w = 0.095721, mean of w_grad = -0.065609\n",
      "Loss: 43.12444382479288\n",
      "Elapsed time: 0.25 min.\n",
      "-\n",
      "Iteration[5000]:\n",
      "b = 21.374026893, b_grad = -0.000000002, mean of w = 0.095591, mean of w_grad = -0.048931\n",
      "Loss: 43.12431015845607\n",
      "Elapsed time: 0.30 min.\n",
      "-\n",
      "Iteration[5500]:\n",
      "b = 21.374026893, b_grad = -0.000000002, mean of w = 0.095465, mean of w_grad = -0.036869\n",
      "Loss: 43.12422736783721\n",
      "Elapsed time: 0.35 min.\n",
      "-\n",
      "Iteration[6000]:\n",
      "b = 21.374026893, b_grad = -0.000000002, mean of w = 0.095343, mean of w_grad = -0.028005\n",
      "Loss: 43.12417329511278\n",
      "Elapsed time: 0.40 min.\n",
      "-\n",
      "Iteration[6500]:\n",
      "b = 21.374026893, b_grad = -0.000000002, mean of w = 0.095224, mean of w_grad = -0.021413\n",
      "Loss: 43.12413565557318\n",
      "Elapsed time: 0.46 min.\n",
      "-\n",
      "Iteration[7000]:\n",
      "b = 21.374026893, b_grad = -0.000000002, mean of w = 0.095108, mean of w_grad = -0.016464\n",
      "Loss: 43.12410758611885\n",
      "Elapsed time: 0.52 min.\n",
      "-\n",
      "Iteration[7500]:\n",
      "b = 21.374026893, b_grad = -0.000000002, mean of w = 0.094995, mean of w_grad = -0.012721\n",
      "Loss: 43.124085223511635\n",
      "Elapsed time: 0.59 min.\n",
      "-\n",
      "Iteration[8000]:\n",
      "b = 21.374026893, b_grad = -0.000000002, mean of w = 0.094884, mean of w_grad = -0.009873\n",
      "Loss: 43.12406637548548\n",
      "Elapsed time: 0.66 min.\n",
      "-\n",
      "Iteration[8500]:\n",
      "b = 21.374026893, b_grad = -0.000000002, mean of w = 0.094776, mean of w_grad = -0.007696\n",
      "Loss: 43.12404978640363\n",
      "Elapsed time: 0.73 min.\n",
      "-\n",
      "Iteration[9000]:\n",
      "b = 21.374026893, b_grad = -0.000000002, mean of w = 0.094670, mean of w_grad = -0.006023\n",
      "Loss: 43.124034728932386\n",
      "Elapsed time: 0.80 min.\n",
      "-\n",
      "Iteration[9500]:\n",
      "b = 21.374026893, b_grad = -0.000000002, mean of w = 0.094566, mean of w_grad = -0.004733\n",
      "Loss: 43.12402077566224\n",
      "Elapsed time: 0.88 min.\n",
      "-\n",
      "Iteration[10000]:\n",
      "b = 21.374026893, b_grad = -0.000000002, mean of w = 0.094465, mean of w_grad = -0.003736\n",
      "Loss: 43.12400767063684\n",
      "Elapsed time: 0.96 min.\n"
     ]
    }
   ],
   "source": [
    "train_x = np.array(train_x)\n",
    "train_x = train_x.reshape(train_x.shape[0], -1) # rehshape into (5652, 18 *9)\n",
    "train_y = np.array(train_y)\n",
    "train_y = train_y.reshape(train_y.shape[0], -1) # rehshape into (5652, 1)\n",
    "\n",
    "# Nolmalization\n",
    "mean = np.mean(train_x, axis = 0)\n",
    "std = np.std(train_x, axis = 0)\n",
    "for i in range(train_x.shape[0]):\n",
    "    for j in range(train_x.shape[1]):\n",
    "        if not std[j] == 0 :\n",
    "            train_x[i][j] = (train_x[i][j]- mean[j]) / std[j]\n",
    "\n",
    "b = 1.0\n",
    "w = np.zeros((train_x.shape[1], 1))\n",
    "\n",
    "b_history = np.array(b)\n",
    "w_history = np.array(w.reshape(1, -1))\n",
    "\n",
    "b_grad_history = b_history\n",
    "w_grad_history = w_history\n",
    "\n",
    "# using AdaGrad\n",
    "lr = 1.0   # learning rate\n",
    "lr_b = 1.0  # customized learning rate for b\n",
    "lr_w = 1.0  # customized learning rate for w\n",
    "iteration = 10000\n",
    "\n",
    "t_start = time.time()\n",
    "for i in range(iteration):      \n",
    "    b_grad = np.sum((-2.0) * (train_y - b - train_x.dot(w)))  # train_x.shape[0] = 5652\n",
    "    w_grad = (-2.0) * (np.transpose(train_x).dot(train_y - b - train_x.dot(w)))\n",
    "\n",
    "    lr_b += b_grad ** 2.0\n",
    "    lr_w += w_grad ** 2.0\n",
    "\n",
    "    b -= lr * b_grad / (np.sqrt(lr_b) + 0.00000001)\n",
    "    w -= lr * w_grad / (np.sqrt(lr_w) + 0.00000001)\n",
    "\n",
    "    b_history = np.append(b_history, b)\n",
    "    w_history = np.append(w_history, w.reshape(1, -1), axis = 0)\n",
    "\n",
    "    b_grad_history = np.append(b_grad_history, b_grad)\n",
    "    w_grad_history = np.append(w_grad_history, w_grad.reshape(1, -1), axis = 0)\n",
    "  \n",
    "    if(i % 500 == 499):\n",
    "        t_end = time.time()\n",
    "        print('-\\nIteration[%d]:\\nb = %.9f, b_grad = %.9f, mean of w = %.6f, mean of w_grad = %.6f' % (i + 1, b, b_grad, np.mean(w), np.mean(w_grad)))    \n",
    "        print(\"Loss:\", np.power(np.sum(np.power(train_x.dot(w) - b - train_y, 2 ))/ train_x.shape[0], 0.5))\n",
    "        #print(\"Loss:\", np.sum(np.power(train_y - b - train_x.dot(w), 2 )))\n",
    "        print('Elapsed time: %.2f min.' % ((t_end - t_start) / 60.0)) "
   ]
  },
  {
   "cell_type": "code",
   "execution_count": 13,
   "metadata": {
    "id": "8k37zLBC9RYu"
   },
   "outputs": [],
   "source": [
    "# save the training result into .csv files\n",
    "with open('b_history.csv', 'w', newline='') as csvfile:  \n",
    "    writer = csv.writer(csvfile)  # 建立 CSV 檔寫入器\n",
    "    writer.writerow(b_history)    # 寫入一列資料\n",
    "\n",
    "with open('w_history.csv', 'w', newline='') as csvfile:  \n",
    "    writer = csv.writer(csvfile)\n",
    "    writer.writerows(w_history)\n",
    "\n",
    "with open('b_grad_history.csv', 'w', newline='') as csvfile:  \n",
    "    writer = csv.writer(csvfile)\n",
    "    writer.writerow(b_grad_history)\n",
    "\n",
    "with open('w_grad_history.csv', 'w', newline='') as csvfile:  \n",
    "    writer = csv.writer(csvfile)\n",
    "    writer.writerows(w_grad_history)"
   ]
  },
  {
   "cell_type": "code",
   "execution_count": 15,
   "metadata": {
    "id": "3XDfHY8O7-m6"
   },
   "outputs": [],
   "source": [
    "# load the training result\n",
    "b_result = np.genfromtxt('b_history.csv', delimiter=',', encoding='big5')\n",
    "b_grad_result = np.genfromtxt('b_grad_history.csv', delimiter=',', encoding='big5')\n",
    "w_result = np.genfromtxt('w_history.csv', delimiter=',', encoding='big5')\n",
    "w_grad_result = np.genfromtxt('w_grad_history.csv', delimiter=',', encoding='big5')"
   ]
  },
  {
   "cell_type": "code",
   "execution_count": 16,
   "metadata": {
    "colab": {
     "base_uri": "https://localhost:8080/",
     "height": 250
    },
    "id": "5riRx9G9ClQn",
    "outputId": "c3140713-8b54-48c9-b001-380f300223ac"
   },
   "outputs": [
    {
     "name": "stdout",
     "output_type": "stream",
     "text": [
      "Model : y = x * w + b\n"
     ]
    },
    {
     "ename": "ValueError",
     "evalue": "The truth value of an array with more than one element is ambiguous. Use a.any() or a.all()",
     "output_type": "error",
     "traceback": [
      "\u001b[1;31m---------------------------------------------------------------------------\u001b[0m",
      "\u001b[1;31mValueError\u001b[0m                                Traceback (most recent call last)",
      "\u001b[1;32m~\\AppData\\Local\\Temp/ipykernel_5304/461799973.py\u001b[0m in \u001b[0;36m<module>\u001b[1;34m\u001b[0m\n\u001b[0;32m     12\u001b[0m         \u001b[0mprediction_train\u001b[0m \u001b[1;33m=\u001b[0m \u001b[0mnp\u001b[0m\u001b[1;33m.\u001b[0m\u001b[0mappend\u001b[0m\u001b[1;33m(\u001b[0m\u001b[0mprediction_train\u001b[0m\u001b[1;33m,\u001b[0m \u001b[0mpredict_value\u001b[0m\u001b[1;33m)\u001b[0m\u001b[1;33m\u001b[0m\u001b[1;33m\u001b[0m\u001b[0m\n\u001b[0;32m     13\u001b[0m     \u001b[0mERROR\u001b[0m \u001b[1;33m=\u001b[0m \u001b[0mabs\u001b[0m\u001b[1;33m(\u001b[0m\u001b[0msum\u001b[0m\u001b[1;33m(\u001b[0m\u001b[0mprediction_train\u001b[0m \u001b[1;33m-\u001b[0m \u001b[0mtrain_y\u001b[0m\u001b[1;33m)\u001b[0m\u001b[1;33m)\u001b[0m\u001b[1;33m\u001b[0m\u001b[1;33m\u001b[0m\u001b[0m\n\u001b[1;32m---> 14\u001b[1;33m     \u001b[1;32mif\u001b[0m \u001b[1;33m(\u001b[0m\u001b[0mERROR\u001b[0m \u001b[1;33m<\u001b[0m \u001b[0mAverage_ERROR\u001b[0m\u001b[1;33m)\u001b[0m\u001b[1;33m:\u001b[0m  \u001b[1;31m# if current error is smaller, then update the average error.\u001b[0m\u001b[1;33m\u001b[0m\u001b[1;33m\u001b[0m\u001b[0m\n\u001b[0m\u001b[0;32m     15\u001b[0m         \u001b[0mAverage_ERROR\u001b[0m \u001b[1;33m=\u001b[0m \u001b[0mERROR\u001b[0m\u001b[1;33m\u001b[0m\u001b[1;33m\u001b[0m\u001b[0m\n\u001b[0;32m     16\u001b[0m         \u001b[0mresult_index\u001b[0m \u001b[1;33m=\u001b[0m \u001b[0mc\u001b[0m\u001b[1;33m\u001b[0m\u001b[1;33m\u001b[0m\u001b[0m\n",
      "\u001b[1;31mValueError\u001b[0m: The truth value of an array with more than one element is ambiguous. Use a.any() or a.all()"
     ]
    }
   ],
   "source": [
    "print('Model : y = x * w + b')\n",
    "# predict the PM2.5 of training data\n",
    "\n",
    "Average_ERROR = 10000.0  # a random initial value for average error comparision\n",
    "t_start = time.time()\n",
    "for c in range(0, len(b_history), 50):    # to find the index, which its average error is the smallest.\n",
    "    prediction_train = np.array([])\n",
    "    for i in range(len(train_x)):\n",
    "        predict_value = sum(train_x[i] * w_history[c]) + b_history[c]\n",
    "        if(predict_value < 0):  # when prediction is a negative number, set it to 0.0\n",
    "            predict_value = 0.0\n",
    "        prediction_train = np.append(prediction_train, predict_value)\n",
    "    ERROR = abs(sum(prediction_train - train_y))\n",
    "    if (ERROR < Average_ERROR):  # if current error is smaller, then update the average error.\n",
    "        Average_ERROR = ERROR\n",
    "        result_index = c\n",
    "    if (c % 500 == 0):\n",
    "        t_end = time.time()\n",
    "        print('-\\nIteration %d: Current Best Average_ERROR = %.5f' % (c, Average_ERROR))\n",
    "        print('Elapsed time: %.2f min.' % ((t_end - t_start) / 60.0))\n",
    "print('-\\nFinal index %d, with smallest AVERAGE ERROR : %.5f' % (result_index, Average_ERROR))\n",
    "b_final = b_history[result_index]  # the best-performed b value\n",
    "w_final = w_history[result_index]  # the best-performed w value"
   ]
  },
  {
   "cell_type": "code",
   "execution_count": null,
   "metadata": {
    "colab": {
     "base_uri": "https://localhost:8080/"
    },
    "id": "EgwssTrsdq6W",
    "outputId": "4ecf7ce7-1b82-4e10-faed-8aacb7aa0b67"
   },
   "outputs": [
    {
     "data": {
      "text/plain": [
       "array([1., 1., 1., ..., 1., 1., 1.])"
      ]
     },
     "execution_count": 21,
     "metadata": {
      "tags": []
     },
     "output_type": "execute_result"
    }
   ],
   "source": [
    "prediction_train"
   ]
  },
  {
   "cell_type": "code",
   "execution_count": 17,
   "metadata": {
    "colab": {
     "base_uri": "https://localhost:8080/",
     "height": 250
    },
    "id": "Atd_OG-eYXao",
    "outputId": "4ccda6a3-dcba-48c7-b3e0-85a8cbfff4d6"
   },
   "outputs": [
    {
     "name": "stdout",
     "output_type": "stream",
     "text": [
      "Model : y = x * w + b\n"
     ]
    },
    {
     "ename": "NameError",
     "evalue": "name 'w_final' is not defined",
     "output_type": "error",
     "traceback": [
      "\u001b[1;31m---------------------------------------------------------------------------\u001b[0m",
      "\u001b[1;31mNameError\u001b[0m                                 Traceback (most recent call last)",
      "\u001b[1;32m~\\AppData\\Local\\Temp/ipykernel_5304/2463956544.py\u001b[0m in \u001b[0;36m<module>\u001b[1;34m\u001b[0m\n\u001b[0;32m      3\u001b[0m \u001b[0mprediction_train\u001b[0m \u001b[1;33m=\u001b[0m \u001b[0mnp\u001b[0m\u001b[1;33m.\u001b[0m\u001b[0marray\u001b[0m\u001b[1;33m(\u001b[0m\u001b[1;33m[\u001b[0m\u001b[1;33m]\u001b[0m\u001b[1;33m)\u001b[0m\u001b[1;33m\u001b[0m\u001b[1;33m\u001b[0m\u001b[0m\n\u001b[0;32m      4\u001b[0m \u001b[1;32mfor\u001b[0m \u001b[0mi\u001b[0m \u001b[1;32min\u001b[0m \u001b[0mrange\u001b[0m\u001b[1;33m(\u001b[0m\u001b[0mlen\u001b[0m\u001b[1;33m(\u001b[0m\u001b[0mtrain_x\u001b[0m\u001b[1;33m)\u001b[0m\u001b[1;33m)\u001b[0m\u001b[1;33m:\u001b[0m\u001b[1;33m\u001b[0m\u001b[1;33m\u001b[0m\u001b[0m\n\u001b[1;32m----> 5\u001b[1;33m     \u001b[0mpredict_value\u001b[0m \u001b[1;33m=\u001b[0m \u001b[0msum\u001b[0m\u001b[1;33m(\u001b[0m\u001b[0mtrain_x\u001b[0m\u001b[1;33m[\u001b[0m\u001b[0mi\u001b[0m\u001b[1;33m]\u001b[0m \u001b[1;33m*\u001b[0m \u001b[0mw_final\u001b[0m\u001b[1;33m)\u001b[0m \u001b[1;33m+\u001b[0m \u001b[0mb_final\u001b[0m\u001b[1;33m\u001b[0m\u001b[1;33m\u001b[0m\u001b[0m\n\u001b[0m\u001b[0;32m      6\u001b[0m     \u001b[1;32mif\u001b[0m\u001b[1;33m(\u001b[0m\u001b[0mpredict_value\u001b[0m \u001b[1;33m<\u001b[0m \u001b[1;36m0\u001b[0m\u001b[1;33m)\u001b[0m\u001b[1;33m:\u001b[0m\u001b[1;33m\u001b[0m\u001b[1;33m\u001b[0m\u001b[0m\n\u001b[0;32m      7\u001b[0m         \u001b[0mpredict_value\u001b[0m \u001b[1;33m=\u001b[0m \u001b[1;36m0.0\u001b[0m\u001b[1;33m\u001b[0m\u001b[1;33m\u001b[0m\u001b[0m\n",
      "\u001b[1;31mNameError\u001b[0m: name 'w_final' is not defined"
     ]
    }
   ],
   "source": [
    "print('Model : y = x * w + b')\n",
    "# predict the PM2.5 of training data\n",
    "prediction_train = np.array([])\n",
    "for i in range(len(train_x)):\n",
    "    predict_value = sum(train_x[i] * w_final) + b_final\n",
    "    if(predict_value < 0):\n",
    "        predict_value = 0.0\n",
    "    prediction_train = np.append(prediction_train, predict_value)\n",
    "\n",
    "print('Average ERROR on Training Data :', sum(prediction_train - train_y))\n",
    "training_data_prediction = prediction_train"
   ]
  },
  {
   "cell_type": "code",
   "execution_count": null,
   "metadata": {
    "id": "ZVrKl4CT1Uob"
   },
   "outputs": [],
   "source": [
    "# Collect testing data form test.csv\n",
    "test_data = np.genfromtxt('test.csv', delimiter=',', encoding='big5')\n",
    "test = test_data[ : , 2 : ]\n",
    "\n",
    "for i in range(test.shape[0]):\n",
    "    for j in range(test.shape[1]):\n",
    "        if(math.isnan(test[i][j])):\n",
    "            test[i][j] = 0.0\n",
    "\n",
    "test_data = [ ]\n",
    "daily_data = np.array([])\n",
    "i = 0\n",
    "while(i < len(test)):  \n",
    "    daily_data = np.append(daily_data, test[i])  \n",
    "    if(i % 18 == 17):\n",
    "        test_data.append(daily_data.reshape(18 * 9))\n",
    "        daily_data = np.array([])\n",
    "    i += 1\n",
    "\n",
    "test_data = np.array(test_data)\n",
    "print('Shape of test_data :', test_data.shape)   # 162 = 18 * 9\n",
    "\n",
    "# Nolmalization\n",
    "for i in range(test_data.shape[0]):\n",
    "    for j in range(test_data.shape[1]):\n",
    "        if not std[j] == 0 :\n",
    "            test_data[i][j] = (test_data[i][j]- mean[j]) / std[j]"
   ]
  },
  {
   "cell_type": "code",
   "execution_count": null,
   "metadata": {
    "id": "unx94MnKhusk"
   },
   "outputs": [],
   "source": [
    "print('Model : y = x * w + b')\n",
    "b_final = b  # the best-performed b value\n",
    "w_final = w  # the best-performed w value\n",
    "\n",
    "# predict the 10-th-hour PM2.5 of test data\n",
    "test_result = np.array([])\n",
    "testing_data_prediction = test_data.dot(w_final) + b_final"
   ]
  },
  {
   "cell_type": "code",
   "execution_count": null,
   "metadata": {
    "id": "xUGti4frxrIF"
   },
   "outputs": [],
   "source": [
    "# write the prediction into file\n",
    "with open('submission.csv', 'w', newline='') as csvfile:\n",
    "    writer = csv.writer(csvfile)\n",
    "    writer.writerow(['id', 'value'])\n",
    "    for i in range(len(testing_data_prediction)):\n",
    "        writer.writerow(['id_' + str(i), testing_data_prediction[i][0]])"
   ]
  },
  {
   "cell_type": "code",
   "execution_count": null,
   "metadata": {
    "colab": {
     "base_uri": "https://localhost:8080/",
     "height": 1000
    },
    "id": "BN16qCKDCFYy",
    "outputId": "b9684f75-6f48-4727-9f9c-52f5d95b677c"
   },
   "outputs": [
    {
     "data": {
      "text/plain": [
       "array([[  6.57409474],\n",
       "       [ 18.21204334],\n",
       "       [ 24.04340533],\n",
       "       [  7.70261319],\n",
       "       [ 27.03635872],\n",
       "       [ 22.22548482],\n",
       "       [ 23.83343507],\n",
       "       [ 30.52503068],\n",
       "       [ 16.78794685],\n",
       "       [ 59.6464476 ],\n",
       "       [ 11.72250884],\n",
       "       [  9.29448799],\n",
       "       [ 63.25185495],\n",
       "       [ 53.25045862],\n",
       "       [ 22.16131594],\n",
       "       [ 12.22035284],\n",
       "       [ 32.40286855],\n",
       "       [ 66.7404386 ],\n",
       "       [ -0.52476377],\n",
       "       [ 17.13002879],\n",
       "       [ 41.80345598],\n",
       "       [ 72.14514171],\n",
       "       [  9.28671314],\n",
       "       [ 17.87121339],\n",
       "       [ 14.73849317],\n",
       "       [ 37.88110539],\n",
       "       [ 14.61605031],\n",
       "       [ 68.26199781],\n",
       "       [  7.21282852],\n",
       "       [ 55.43736623],\n",
       "       [ 24.50554125],\n",
       "       [  8.52615234],\n",
       "       [  2.52349848],\n",
       "       [ 18.66856633],\n",
       "       [ 27.7142711 ],\n",
       "       [ 37.22477495],\n",
       "       [ 43.25327115],\n",
       "       [ 29.78644353],\n",
       "       [ 42.14256491],\n",
       "       [ 35.19130608],\n",
       "       [  7.62278597],\n",
       "       [ 41.20076645],\n",
       "       [ 30.54564316],\n",
       "       [ 50.98677908],\n",
       "       [ 17.50613833],\n",
       "       [ 35.40551322],\n",
       "       [ 24.63768483],\n",
       "       [  9.63329894],\n",
       "       [ 26.76200333],\n",
       "       [ 32.27582756],\n",
       "       [ 20.16130114],\n",
       "       [  7.9425719 ],\n",
       "       [ 20.56826875],\n",
       "       [ 52.65753955],\n",
       "       [ 15.95977122],\n",
       "       [ 36.4310508 ],\n",
       "       [ 32.90317048],\n",
       "       [ 20.75476814],\n",
       "       [ 57.39793828],\n",
       "       [ 22.78188995],\n",
       "       [ 14.3129235 ],\n",
       "       [ 41.7633664 ],\n",
       "       [ 12.61502631],\n",
       "       [ 48.43067708],\n",
       "       [ 14.17101631],\n",
       "       [ 15.12269373],\n",
       "       [ 14.44626643],\n",
       "       [ -1.00679184],\n",
       "       [ 43.82367058],\n",
       "       [ 29.09913034],\n",
       "       [ 20.25311123],\n",
       "       [ 41.75582888],\n",
       "       [ 60.77506874],\n",
       "       [  5.54082084],\n",
       "       [ 16.50886363],\n",
       "       [  3.40685016],\n",
       "       [ 40.35032924],\n",
       "       [ 14.01630498],\n",
       "       [ 21.59395719],\n",
       "       [ 21.00423671],\n",
       "       [ 23.89916251],\n",
       "       [ 36.09938398],\n",
       "       [ 21.84706597],\n",
       "       [ 92.56231155],\n",
       "       [ 37.30142932],\n",
       "       [ 27.86226402],\n",
       "       [ 22.02555473],\n",
       "       [ 33.64733111],\n",
       "       [ 23.27729988],\n",
       "       [ 19.78211711],\n",
       "       [ 28.92144965],\n",
       "       [ 41.5682533 ],\n",
       "       [  4.75293027],\n",
       "       [ 38.75003826],\n",
       "       [ 45.84792932],\n",
       "       [ 16.49805172],\n",
       "       [ 31.57478527],\n",
       "       [ 12.98227193],\n",
       "       [ 23.39646748],\n",
       "       [  4.53573819],\n",
       "       [ 18.12628848],\n",
       "       [ 26.37645547],\n",
       "       [ 14.06618918],\n",
       "       [ 15.85764666],\n",
       "       [ 23.92016459],\n",
       "       [ 39.74267099],\n",
       "       [ 31.55183465],\n",
       "       [  6.32669792],\n",
       "       [  6.07790359],\n",
       "       [ 78.56307441],\n",
       "       [ 47.99137945],\n",
       "       [ 17.0381838 ],\n",
       "       [ 27.76123571],\n",
       "       [ 15.2680931 ],\n",
       "       [ 13.73659474],\n",
       "       [ 24.8918762 ],\n",
       "       [ 26.56967455],\n",
       "       [ 10.52188625],\n",
       "       [ 18.19420726],\n",
       "       [ 19.48615147],\n",
       "       [ 80.53750429],\n",
       "       [ 25.49021717],\n",
       "       [ 37.29572359],\n",
       "       [ 25.24116714],\n",
       "       [  7.41555713],\n",
       "       [ 38.61536308],\n",
       "       [  9.24683132],\n",
       "       [ 21.94701868],\n",
       "       [ 29.10136331],\n",
       "       [ 62.83471979],\n",
       "       [ 21.86682472],\n",
       "       [ 23.28355354],\n",
       "       [ 59.06931676],\n",
       "       [ 15.27750557],\n",
       "       [ 14.16862366],\n",
       "       [  2.70833885],\n",
       "       [ 12.49813076],\n",
       "       [ 58.67694973],\n",
       "       [ 20.33151022],\n",
       "       [  5.34273861],\n",
       "       [ 29.01841474],\n",
       "       [ 25.3447432 ],\n",
       "       [ 45.29088054],\n",
       "       [ 30.74732222],\n",
       "       [ 18.33658904],\n",
       "       [ 26.02569405],\n",
       "       [ 12.01375629],\n",
       "       [ 51.87686656],\n",
       "       [ 23.52530299],\n",
       "       [ 38.45011813],\n",
       "       [ 10.19078613],\n",
       "       [  8.1297755 ],\n",
       "       [ 23.47903782],\n",
       "       [  6.40679886],\n",
       "       [ 15.01783892],\n",
       "       [ 41.07473166],\n",
       "       [  7.76315382],\n",
       "       [ 36.22997887],\n",
       "       [ 11.07039595],\n",
       "       [ 18.8323259 ],\n",
       "       [ 41.54225966],\n",
       "       [ 19.35099481],\n",
       "       [ 13.27876455],\n",
       "       [  7.90405062],\n",
       "       [ 52.67019911],\n",
       "       [ 31.22272126],\n",
       "       [ -0.40473019],\n",
       "       [ 16.29244055],\n",
       "       [ 63.67283577],\n",
       "       [ 14.14647118],\n",
       "       [ 63.68475066],\n",
       "       [ 39.08382947],\n",
       "       [ 26.98119921],\n",
       "       [ 20.36505937],\n",
       "       [ 61.1460345 ],\n",
       "       [ 25.0384249 ],\n",
       "       [ 20.99290856],\n",
       "       [ 37.56483612],\n",
       "       [ 12.52762369],\n",
       "       [ 31.18653307],\n",
       "       [ 16.76830916],\n",
       "       [ 11.77545745],\n",
       "       [ 55.7658987 ],\n",
       "       [ 46.43658017],\n",
       "       [ 15.66600808],\n",
       "       [ 35.21985115],\n",
       "       [ 26.25005577],\n",
       "       [ 69.19984381],\n",
       "       [ 10.00792721],\n",
       "       [ 57.93505415],\n",
       "       [ 38.33387442],\n",
       "       [ 15.46458957],\n",
       "       [ 29.09898761],\n",
       "       [  0.18731855],\n",
       "       [ 19.16699618],\n",
       "       [  0.89684898],\n",
       "       [ 33.78499256],\n",
       "       [ 10.48066616],\n",
       "       [ 18.9422583 ],\n",
       "       [ 60.14735001],\n",
       "       [ 25.01058525],\n",
       "       [ 25.59565595],\n",
       "       [ 64.57405078],\n",
       "       [ 10.51323995],\n",
       "       [  9.19961836],\n",
       "       [ 11.27485456],\n",
       "       [  7.25951412],\n",
       "       [  1.67296814],\n",
       "       [124.07839412],\n",
       "       [ 20.71399449],\n",
       "       [ 16.29601317],\n",
       "       [ 13.84684337],\n",
       "       [ 36.33789022],\n",
       "       [ 35.94705327],\n",
       "       [ 18.91077542],\n",
       "       [ 34.89188031],\n",
       "       [ 78.60235259],\n",
       "       [  0.49659999],\n",
       "       [ 12.91400133],\n",
       "       [ 31.78277308],\n",
       "       [ 14.94162752],\n",
       "       [ 12.74675022],\n",
       "       [113.31446449],\n",
       "       [ 12.9668329 ],\n",
       "       [ 16.39741751],\n",
       "       [ 64.12392718],\n",
       "       [ 16.04998122],\n",
       "       [ 19.60583614],\n",
       "       [ 10.17365957],\n",
       "       [  3.68126124],\n",
       "       [ 46.28824141],\n",
       "       [ 12.68698589],\n",
       "       [ 53.96193198],\n",
       "       [ 42.53686174],\n",
       "       [ 25.36829305],\n",
       "       [ 41.00644365],\n",
       "       [ 69.0615728 ],\n",
       "       [ 42.14592977],\n",
       "       [ 11.12778668],\n",
       "       [ 18.28244656]])"
      ]
     },
     "execution_count": 79,
     "metadata": {
      "tags": []
     },
     "output_type": "execute_result"
    }
   ],
   "source": [
    "testing_data_prediction"
   ]
  },
  {
   "cell_type": "code",
   "execution_count": null,
   "metadata": {
    "colab": {
     "base_uri": "https://localhost:8080/",
     "height": 1000
    },
    "id": "Mk1DZma3K6n2",
    "outputId": "71b33605-5628-479d-ed21-6237cd3274cf"
   },
   "outputs": [
    {
     "name": "stdout",
     "output_type": "stream",
     "text": [
      "-\n",
      "genre 1 :\n",
      "mean = 0.010199354251763203\n",
      "i = 0 , w = [0.38244342]\n",
      "i = 1 , w = [-0.86890405]\n",
      "i = 2 , w = [1.14417239]\n",
      "i = 3 , w = [-1.6664533]\n",
      "i = 4 , w = [-0.04847699]\n",
      "i = 5 , w = [1.01803214]\n",
      "i = 6 , w = [-0.3772705]\n",
      "i = 7 , w = [-1.69738461]\n",
      "i = 8 , w = [2.0220473]\n",
      "-\n",
      "genre 2 :\n",
      "mean = 0.04979475529836037\n",
      "i = 9 , w = [-0.32432191]\n",
      "i = 10 , w = [0.14364902]\n",
      "i = 11 , w = [0.08069296]\n",
      "i = 12 , w = [0.09479785]\n",
      "i = 13 , w = [-0.02080862]\n",
      "i = 14 , w = [-0.024342]\n",
      "i = 15 , w = [-0.18114775]\n",
      "i = 16 , w = [0.16335193]\n",
      "i = 17 , w = [0.51628132]\n",
      "-\n",
      "genre 3 :\n",
      "mean = 0.04238782762811068\n",
      "i = 18 , w = [0.05250246]\n",
      "i = 19 , w = [-0.02597074]\n",
      "i = 20 , w = [0.06572435]\n",
      "i = 21 , w = [-0.16014231]\n",
      "i = 22 , w = [0.15235107]\n",
      "i = 23 , w = [-0.02057159]\n",
      "i = 24 , w = [-0.16423268]\n",
      "i = 25 , w = [0.07806743]\n",
      "i = 26 , w = [0.40376247]\n",
      "-\n",
      "genre 4 :\n",
      "mean = 0.027864246043542634\n",
      "i = 27 , w = [-0.31484761]\n",
      "i = 28 , w = [0.37977916]\n",
      "i = 29 , w = [-0.2594932]\n",
      "i = 30 , w = [0.29313998]\n",
      "i = 31 , w = [0.3191514]\n",
      "i = 32 , w = [-0.51918875]\n",
      "i = 33 , w = [0.0903002]\n",
      "i = 34 , w = [0.18023898]\n",
      "i = 35 , w = [0.08169805]\n",
      "-\n",
      "genre 5 :\n",
      "mean = 0.1358545250545657\n",
      "i = 36 , w = [0.08512142]\n",
      "i = 37 , w = [0.06259363]\n",
      "i = 38 , w = [0.2526718]\n",
      "i = 39 , w = [-0.46080921]\n",
      "i = 40 , w = [-0.2017042]\n",
      "i = 41 , w = [-0.35131134]\n",
      "i = 42 , w = [0.00028929]\n",
      "i = 43 , w = [-0.09538137]\n",
      "i = 44 , w = [-0.51416073]\n",
      "-\n",
      "genre 6 :\n",
      "mean = 0.4304504456577483\n",
      "i = 45 , w = [0.26977305]\n",
      "i = 46 , w = [-0.22511689]\n",
      "i = 47 , w = [-0.19524327]\n",
      "i = 48 , w = [-1.22688335]\n",
      "i = 49 , w = [-0.73106261]\n",
      "i = 50 , w = [-0.43146388]\n",
      "i = 51 , w = [-0.46205004]\n",
      "i = 52 , w = [-1.50203098]\n",
      "i = 53 , w = [0.63002396]\n",
      "-\n",
      "genre 7 :\n",
      "mean = 0.5605738568803685\n",
      "i = 54 , w = [-0.00381196]\n",
      "i = 55 , w = [-0.36746099]\n",
      "i = 56 , w = [0.12090153]\n",
      "i = 57 , w = [1.2995663]\n",
      "i = 58 , w = [0.74926986]\n",
      "i = 59 , w = [0.61144524]\n",
      "i = 60 , w = [0.16274033]\n",
      "i = 61 , w = [1.13240491]\n",
      "i = 62 , w = [1.34010949]\n",
      "-\n",
      "genre 8 :\n",
      "mean = 0.03578254955788483\n",
      "i = 63 , w = [-0.0034637]\n",
      "i = 64 , w = [0.27915243]\n",
      "i = 65 , w = [-0.20519985]\n",
      "i = 66 , w = [-0.35383403]\n",
      "i = 67 , w = [0.02880423]\n",
      "i = 68 , w = [-0.62525801]\n",
      "i = 69 , w = [-0.37987053]\n",
      "i = 70 , w = [-0.25785301]\n",
      "i = 71 , w = [1.83956541]\n",
      "-\n",
      "genre 9 :\n",
      "mean = 0.15820483092835896\n",
      "i = 72 , w = [0.22685447]\n",
      "i = 73 , w = [0.23440061]\n",
      "i = 74 , w = [-0.80319746]\n",
      "i = 75 , w = [1.12878538]\n",
      "i = 76 , w = [-0.21333264]\n",
      "i = 77 , w = [-1.02857997]\n",
      "i = 78 , w = [1.02172871]\n",
      "i = 79 , w = [-0.05940611]\n",
      "i = 80 , w = [0.91659048]\n",
      "-\n",
      "genre 10 :\n",
      "mean = 1.5177018395018937\n",
      "i = 81 , w = [-0.5998543]\n",
      "i = 82 , w = [-0.21540126]\n",
      "i = 83 , w = [3.58786925]\n",
      "i = 84 , w = [-3.93063621]\n",
      "i = 85 , w = [-0.36627571]\n",
      "i = 86 , w = [8.193769]\n",
      "i = 87 , w = [-9.24868382]\n",
      "i = 88 , w = [0.39690824]\n",
      "i = 89 , w = [15.84162136]\n",
      "-\n",
      "genre 11 :\n",
      "mean = 0.02568003804927705\n",
      "i = 90 , w = [0.07710459]\n",
      "i = 91 , w = [-0.01930675]\n",
      "i = 92 , w = [-0.0939598]\n",
      "i = 93 , w = [0.02125305]\n",
      "i = 94 , w = [-0.11410681]\n",
      "i = 95 , w = [0.10331336]\n",
      "i = 96 , w = [0.0370849]\n",
      "i = 97 , w = [-0.08319446]\n",
      "i = 98 , w = [-0.15930841]\n",
      "-\n",
      "genre 12 :\n",
      "mean = 0.04298171558417943\n",
      "i = 99 , w = [-0.12177005]\n",
      "i = 100 , w = [0.26164906]\n",
      "i = 101 , w = [0.32288201]\n",
      "i = 102 , w = [-0.80225939]\n",
      "i = 103 , w = [-0.63132508]\n",
      "i = 104 , w = [1.15511646]\n",
      "i = 105 , w = [-1.26305935]\n",
      "i = 106 , w = [0.01669186]\n",
      "i = 107 , w = [0.67523905]\n",
      "-\n",
      "genre 13 :\n",
      "mean = 0.028768251407530247\n",
      "i = 108 , w = [-0.51762238]\n",
      "i = 109 , w = [0.60921503]\n",
      "i = 110 , w = [-0.13253584]\n",
      "i = 111 , w = [-0.09913422]\n",
      "i = 112 , w = [-0.01499756]\n",
      "i = 113 , w = [0.09889758]\n",
      "i = 114 , w = [-0.21066776]\n",
      "i = 115 , w = [0.26169347]\n",
      "i = 116 , w = [0.26406594]\n",
      "-\n",
      "genre 14 :\n",
      "mean = 0.04444523966819877\n",
      "i = 117 , w = [0.34983048]\n",
      "i = 118 , w = [-0.31230927]\n",
      "i = 119 , w = [0.14681427]\n",
      "i = 120 , w = [-0.42492709]\n",
      "i = 121 , w = [-0.07414101]\n",
      "i = 122 , w = [0.34920913]\n",
      "i = 123 , w = [0.07425682]\n",
      "i = 124 , w = [-0.35828485]\n",
      "i = 125 , w = [-0.15045563]\n",
      "-\n",
      "genre 15 :\n",
      "mean = 0.053407769180318115\n",
      "i = 126 , w = [-0.04731303]\n",
      "i = 127 , w = [0.28580973]\n",
      "i = 128 , w = [-0.03734074]\n",
      "i = 129 , w = [0.17746196]\n",
      "i = 130 , w = [0.03851341]\n",
      "i = 131 , w = [0.17038585]\n",
      "i = 132 , w = [-0.2487308]\n",
      "i = 133 , w = [0.11405389]\n",
      "i = 134 , w = [0.02782965]\n",
      "-\n",
      "genre 16 :\n",
      "mean = 0.05710148506012491\n",
      "i = 135 , w = [-0.19265646]\n",
      "i = 136 , w = [-0.09614917]\n",
      "i = 137 , w = [0.08495143]\n",
      "i = 138 , w = [-0.17652621]\n",
      "i = 139 , w = [0.04249075]\n",
      "i = 140 , w = [0.00286014]\n",
      "i = 141 , w = [0.00096644]\n",
      "i = 142 , w = [-0.22571627]\n",
      "i = 143 , w = [0.04586599]\n",
      "-\n",
      "genre 17 :\n",
      "mean = 0.03948025598081211\n",
      "i = 144 , w = [-0.18728054]\n",
      "i = 145 , w = [-0.13970538]\n",
      "i = 146 , w = [0.254394]\n",
      "i = 147 , w = [0.08905071]\n",
      "i = 148 , w = [-0.1035401]\n",
      "i = 149 , w = [-0.08536196]\n",
      "i = 150 , w = [-0.03819632]\n",
      "i = 151 , w = [-0.00898189]\n",
      "i = 152 , w = [-0.13570083]\n",
      "-\n",
      "genre 18 :\n",
      "mean = 0.004295201326670035\n",
      "i = 153 , w = [-0.01972205]\n",
      "i = 154 , w = [0.18937941]\n",
      "i = 155 , w = [-0.14825726]\n",
      "i = 156 , w = [-0.23554437]\n",
      "i = 157 , w = [-0.05835999]\n",
      "i = 158 , w = [0.36049417]\n",
      "i = 159 , w = [-0.00308315]\n",
      "i = 160 , w = [-0.33499431]\n",
      "i = 161 , w = [0.21143073]\n"
     ]
    }
   ],
   "source": [
    "genre = 1\n",
    "for i in range(len(w)):\n",
    "    if(i % 9 == 0):\n",
    "        print('-\\ngenre', genre, ':')\n",
    "        print('mean =', abs(np.mean(w[i : i + 9])))\n",
    "        genre += 1\n",
    "    print('i =', i, ', w =', w[i])"
   ]
  },
  {
   "cell_type": "code",
   "execution_count": null,
   "metadata": {
    "id": "4rctfNhhpFdL"
   },
   "outputs": [],
   "source": []
  }
 ],
 "metadata": {
  "colab": {
   "collapsed_sections": [],
   "name": "NTU_ML_HW1.ipynb",
   "provenance": [],
   "toc_visible": true
  },
  "kernelspec": {
   "display_name": "Python 3 (ipykernel)",
   "language": "python",
   "name": "python3"
  },
  "language_info": {
   "codemirror_mode": {
    "name": "ipython",
    "version": 3
   },
   "file_extension": ".py",
   "mimetype": "text/x-python",
   "name": "python",
   "nbconvert_exporter": "python",
   "pygments_lexer": "ipython3",
   "version": "3.9.5"
  }
 },
 "nbformat": 4,
 "nbformat_minor": 1
}
